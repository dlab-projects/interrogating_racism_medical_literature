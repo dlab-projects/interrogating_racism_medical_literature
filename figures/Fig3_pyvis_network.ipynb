{
 "cells": [
  {
   "cell_type": "markdown",
   "id": "1e14faa4-a7d6-4517-8c45-a1bb2e29f6b5",
   "metadata": {},
   "source": [
    "# Network visualization with pyvis\n",
    "\n",
    "Last updated: 01292024\n",
    "By: Lauren Liao  \n",
    "Purpose: visualize and analyze from word similarity matrix "
   ]
  },
  {
   "cell_type": "code",
   "execution_count": 1,
   "id": "545b39bf-5cf2-4750-a880-f7f154851b0a",
   "metadata": {},
   "outputs": [],
   "source": [
    "import networkx as nx\n",
    "import pandas as pd\n",
    "import matplotlib.pyplot as plt\n",
    "from collections import Counter\n",
    "import numpy as np\n",
    "import seaborn as sns\n",
    "import graph_tool.all as gt\n",
    "import itertools\n",
    "from pyvis.network import Network\n",
    "\n",
    "%matplotlib inline"
   ]
  },
  {
   "cell_type": "markdown",
   "id": "1a438727-65ac-476c-b315-3a7b17d03417",
   "metadata": {},
   "source": [
    "**Data loading**  \n",
    "the data starts with the preprocessed text (pickled) file  \n",
    "taking the upper right triangle plus a threshold of 50th quartile\n",
    "fully connected and take the top 30 for word embeddings set"
   ]
  },
  {
   "cell_type": "code",
   "execution_count": 2,
   "id": "6ea321aa-5cb6-4a35-b78a-3411016009ba",
   "metadata": {},
   "outputs": [],
   "source": [
    "top30_lst =  pd.read_pickle(\"../../results/top30_mean_all.pkl\")"
   ]
  },
  {
   "cell_type": "markdown",
   "id": "b4e192d7-4417-404b-b299-af2cea766938",
   "metadata": {},
   "source": [
    "## Graph creation and analysis"
   ]
  },
  {
   "cell_type": "code",
   "execution_count": 5,
   "id": "62bf929f-c928-40cb-8dc8-a750fcfd0547",
   "metadata": {},
   "outputs": [],
   "source": [
    "graph_kt = ['stereotype', 'exclusion', 'prejudice', 'superiority', 'experience'\n",
    "            # 'overt', 'homophobia', 'bias', 'racial_discrimination', 'religion', \n",
    "            # 'oppression', 'implicit', 'racism', 'discrimination', 'segregation', \n",
    "            # 'perceived', 'sexism', 'stereotyping', 'belief', \n",
    "            # 'race', 'racial', 'sexual_orientation',\n",
    "            # 'systemic', 'gender', 'interpersonal', 'injustice', 'historical', \n",
    "            # 'culture', 'cultural', 'construct', 'identity',\n",
    "            # 'stress', 'stigma', 'deprivation', 'negative', 'disadvantage', 'biological',\n",
    "            # 'driver', 'psychosocial', 'wealth', 'consequence', \n",
    "            # 'affecting', 'environmental', 'economic', 'vulnerability', \n",
    "            # 'food_security', 'distribution', 'underlying', 'poverty',\n",
    "            # 'societal', 'norm', 'sociopolitical', 'fundamental', \n",
    "            # 'structural', 'influence',\n",
    "            # 'difference', 'sex', 'class', 'ethnicity', 'disparity',\n",
    "            # 'power'\n",
    "           ]"
   ]
  },
  {
   "cell_type": "code",
   "execution_count": 14,
   "id": "c821f519-4c89-4545-ae99-2b93207488ce",
   "metadata": {},
   "outputs": [],
   "source": [
    "graph_kt = ['stereotype', 'exclusion', 'prejudice', 'superiority', 'experience', \n",
    "            'overt', 'homophobia', 'bias', 'racial_discrimination', 'religion', \n",
    "            'oppression', 'implicit', 'racism', 'discrimination', 'segregation', \n",
    "            'perceived', 'sexism', 'stereotyping', 'belief', \n",
    "            'race', 'racial', 'sexual_orientation',\n",
    "            'systemic', 'gender', 'interpersonal', 'injustice', 'historical', \n",
    "            'culture', 'cultural', 'construct', 'identity',\n",
    "            'stress', 'stigma', 'deprivation', 'negative', 'disadvantage', 'biological',\n",
    "            'driver', 'psychosocial', 'wealth', 'consequence', \n",
    "            'affecting', 'environmental', 'economic', 'vulnerability', \n",
    "            'food_security', 'distribution', 'underlying', 'poverty',\n",
    "            'societal', 'norm', 'sociopolitical', 'fundamental', \n",
    "            'structural', 'influence',\n",
    "            'difference', 'sex', 'class', 'ethnicity', 'disparity',\n",
    "            'power']"
   ]
  },
  {
   "cell_type": "code",
   "execution_count": 6,
   "id": "55b3a07d-e109-4cbd-84fd-061dd7e751f1",
   "metadata": {},
   "outputs": [],
   "source": [
    "node_labels = {word:i for i, word in enumerate(set(graph_kt))}\n",
    "sub_30lst = [(x, y) for x,y in top30_lst if x in set(node_labels)]\n",
    "\n",
    "\n",
    "vis_kt = list(itertools.product(graph_kt, graph_kt))\n",
    "vis_kt = [(v[0],v[1]) for v in vis_kt if v[0] != v[1]]\n",
    "\n",
    "wt = []\n",
    "\n",
    "for word1, word2 in vis_kt:\n",
    "    word_lst = [y for x,y in sub_30lst if x == word1][0]\n",
    "    if word2 in word_lst:\n",
    "        wt.append((1-word_lst[word2])*100000)\n",
    "    else: wt.append(np.nan)\n",
    "    \n",
    "vis_kt_wt = [(v[0], v[1], wt[i]) for i,v in enumerate(vis_kt) if np.isnan(wt[i]) == False]"
   ]
  },
  {
   "cell_type": "code",
   "execution_count": 61,
   "id": "773b26c8",
   "metadata": {},
   "outputs": [
    {
     "data": {
      "text/plain": [
       "[('stereotype', 'superiority', 2797.9906400044774),\n",
       " ('exclusion', 'stereotype', 6214.667757352188),\n",
       " ('exclusion', 'prejudice', 8796.621958414718),\n",
       " ('exclusion', 'superiority', 7662.199536959335),\n",
       " ('prejudice', 'stereotype', 6641.444961229959),\n",
       " ('prejudice', 'exclusion', 8796.621958414718),\n",
       " ('prejudice', 'superiority', 8562.878966331478),\n",
       " ('superiority', 'stereotype', 2797.9906400044774),\n",
       " ('experience', 'stereotype', 20285.836656888325),\n",
       " ('experience', 'exclusion', 24954.238136609398),\n",
       " ('experience', 'prejudice', 14345.261057217916)]"
      ]
     },
     "execution_count": 61,
     "metadata": {},
     "output_type": "execute_result"
    }
   ],
   "source": [
    "vis_kt_wt"
   ]
  },
  {
   "cell_type": "code",
   "execution_count": 53,
   "id": "5bf5f08c",
   "metadata": {},
   "outputs": [
    {
     "data": {
      "text/plain": [
       "True"
      ]
     },
     "execution_count": 53,
     "metadata": {},
     "output_type": "execute_result"
    }
   ],
   "source": [
    "\"exclusion\" in [y for x,y in sub_30lst if x == \"prejudice\"][0]\n",
    "\"prejudice\" in [y for x,y in sub_30lst if x == \"exclusion\"][0]\n",
    "[(x,y,z) for x,y,z in vis_kt_wt if (((x == \"prejudice\")|(x == \"exclusion\")) & \n",
    "                                    ((y == \"prejudice\")|(y == \"exclusion\")))]"
   ]
  },
  {
   "cell_type": "code",
   "execution_count": 30,
   "id": "19618df4-9740-4397-812b-df734e46a219",
   "metadata": {},
   "outputs": [
    {
     "name": "stdout",
     "output_type": "stream",
     "text": [
      "Warning: When  cdn_resources is 'local' jupyter notebook has issues displaying graphics on chrome/safari. Use cdn_resources='in_line' or cdn_resources='remote' if you have issues viewing graphics in a notebook.\n",
      "vis1.html\n"
     ]
    },
    {
     "data": {
      "text/html": [
       "\n",
       "        <iframe\n",
       "            width=\"100%\"\n",
       "            height=\"750px\"\n",
       "            src=\"vis1.html\"\n",
       "            frameborder=\"0\"\n",
       "            allowfullscreen\n",
       "            \n",
       "        ></iframe>\n",
       "        "
      ],
      "text/plain": [
       "<IPython.lib.display.IFrame at 0x7f27c62bd590>"
      ]
     },
     "execution_count": 30,
     "metadata": {},
     "output_type": "execute_result"
    }
   ],
   "source": [
    "got_net = Network(height=\"750px\", width=\"100%\", font_color=\"black\", notebook = True)\n",
    "edge_data = vis_kt_wt\n",
    "got_net.barnes_hut()\n",
    "for e in edge_data:\n",
    "    src = e[0]\n",
    "    dst = e[1]\n",
    "    w = e[2]\n",
    "\n",
    "    got_net.add_node(src, src, title=src)\n",
    "    got_net.add_node(dst, dst, title=dst)\n",
    "    got_net.add_edge(src, dst, mass=w)\n",
    "\n",
    "neighbor_map = got_net.get_adj_list()\n",
    "\n",
    "# add neighbor data to node hover data\n",
    "for node in got_net.nodes:\n",
    "    node[\"title\"] += \" Neighbors:<br>\" + \"<br>\".join(neighbor_map[node[\"id\"]])\n",
    "    node[\"value\"] = len(neighbor_map[node[\"id\"]])\n",
    "    node[\"font\"] = {\"size\": 200, \"color\": \"black\", \"font.family\": \"palatino\"}\n",
    "\n",
    "got_net.show(\"vis1.html\")"
   ]
  },
  {
   "cell_type": "code",
   "execution_count": null,
   "id": "bbda926b-3813-41eb-bb0b-6fcdab23a0c9",
   "metadata": {},
   "outputs": [],
   "source": []
  }
 ],
 "metadata": {
  "kernelspec": {
   "display_name": "textanalysis",
   "language": "python",
   "name": "textanalysis"
  },
  "language_info": {
   "codemirror_mode": {
    "name": "ipython",
    "version": 3
   },
   "file_extension": ".py",
   "mimetype": "text/x-python",
   "name": "python",
   "nbconvert_exporter": "python",
   "pygments_lexer": "ipython3",
   "version": "3.11.0"
  }
 },
 "nbformat": 4,
 "nbformat_minor": 5
}
