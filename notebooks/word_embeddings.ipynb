{
 "cells": [
  {
   "cell_type": "code",
   "execution_count": 1,
   "metadata": {},
   "outputs": [
    {
     "name": "stderr",
     "output_type": "stream",
     "text": [
      "[nltk_data] Downloading package punkt to /Users/psachdeva/nltk_data...\n",
      "[nltk_data]   Package punkt is already up-to-date!\n"
     ]
    }
   ],
   "source": [
    "import nltk\n",
    "import numpy as np\n",
    "import matplotlib.pyplot as plt\n",
    "import pandas as pd\n",
    "import requests\n",
    "\n",
    "from gensim.models import Word2Vec\n",
    "from gensim.models import KeyedVectors\n",
    "from gensim.test.utils import datapath\n",
    "from gensim import utils\n",
    "from sklearn.decomposition import PCA\n",
    "\n",
    "nltk.download('punkt')\n",
    "\n",
    "%matplotlib inline"
   ]
  },
  {
   "cell_type": "code",
   "execution_count": 2,
   "metadata": {},
   "outputs": [],
   "source": [
    "path = '../data/full_data.xlsx'\n",
    "data = pd.read_excel(path)"
   ]
  },
  {
   "cell_type": "code",
   "execution_count": 3,
   "metadata": {},
   "outputs": [],
   "source": [
    "# Grab text columns\n",
    "text_cols = data.filter(regex='^full_text')"
   ]
  },
  {
   "cell_type": "code",
   "execution_count": 4,
   "metadata": {},
   "outputs": [],
   "source": [
    "# Merge text columns into a single column\n",
    "data['text'] = text_cols.apply(\n",
    "    lambda x: ' '.join(x.dropna()),\n",
    "    axis=1)"
   ]
  },
  {
   "cell_type": "code",
   "execution_count": 5,
   "metadata": {},
   "outputs": [],
   "source": [
    "# Lowercase\n",
    "data['text'] = data['text'].str.lower()\n",
    "# Apostrophes\n",
    "data['text'] = data['text'].str.replace('[’+]', '', regex=True)\n",
    "# Hyphens\n",
    "data['text'] = data['text'].str.replace('[-]', '', regex=True)\n",
    "# Replace punctuation with space\n",
    "data['text'] = data['text'].str.replace('[^\\w\\s]', ' ', regex=True)\n",
    "# Remove new lines\n",
    "data['text'] = data['text'].str.replace('\\n', ' ', regex=True)"
   ]
  },
  {
   "cell_type": "code",
   "execution_count": 6,
   "metadata": {},
   "outputs": [],
   "source": [
    "# Convert British English spellings to American English\n",
    "def americanize(string):\n",
    "    url = \"https://raw.githubusercontent.com/hyperreality/American-British-English-Translator/master/data/british_spellings.json\"\n",
    "    british_to_american_dict = requests.get(url).json()    \n",
    "\n",
    "    for british_spelling, american_spelling in british_to_american_dict.items():\n",
    "        string = string.replace(british_spelling, american_spelling)\n",
    "  \n",
    "    return string"
   ]
  },
  {
   "cell_type": "code",
   "execution_count": 7,
   "metadata": {},
   "outputs": [],
   "source": [
    "data['text'] = data['text'].apply(lambda x: americanize(x))\n",
    "data['text'] = data['text'].str.replace('diskrimination', 'discrimination') # Fixing an typo in the json file\n",
    "data['text'] = data['text'].str.replace('diskourse', 'discourse') # Fixing an typo in the json file\n",
    "data['text'] = data['text'].str.replace(' dis ', '')"
   ]
  },
  {
   "cell_type": "code",
   "execution_count": 8,
   "metadata": {},
   "outputs": [],
   "source": [
    "sentences = data['text'].to_list()\n",
    "sentences = [nltk.word_tokenize(s) for s in sentences]"
   ]
  },
  {
   "cell_type": "code",
   "execution_count": 9,
   "metadata": {},
   "outputs": [],
   "source": [
    "min_count = 5\n",
    "vector_size = 32"
   ]
  },
  {
   "cell_type": "code",
   "execution_count": 10,
   "metadata": {},
   "outputs": [],
   "source": [
    "model = Word2Vec(sentences=sentences,\n",
    "                 min_count=min_count,\n",
    "                 vector_size=vector_size)"
   ]
  },
  {
   "cell_type": "code",
   "execution_count": null,
   "metadata": {},
   "outputs": [],
   "source": [
    "model.wv.most_similar('race')"
   ]
  }
 ],
 "metadata": {
  "kernelspec": {
   "display_name": "nlp",
   "language": "python",
   "name": "nlp"
  },
  "language_info": {
   "codemirror_mode": {
    "name": "ipython",
    "version": 3
   },
   "file_extension": ".py",
   "mimetype": "text/x-python",
   "name": "python",
   "nbconvert_exporter": "python",
   "pygments_lexer": "ipython3",
   "version": "3.9.7"
  }
 },
 "nbformat": 4,
 "nbformat_minor": 4
}
