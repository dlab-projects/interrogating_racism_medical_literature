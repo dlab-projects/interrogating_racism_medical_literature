{
 "cells": [
  {
   "cell_type": "markdown",
   "id": "9f9545e7-f05f-40cd-8818-e291cf956d64",
   "metadata": {},
   "source": [
    "# Network visualization top 30\n",
    "\n",
    "Last updated: 09202023  \n",
    "By: Lauren Liao  \n",
    "Purpose: visualize and analyze from word similarity matrix (30 top most related words)"
   ]
  },
  {
   "cell_type": "code",
   "execution_count": 1,
   "id": "0d8db00e-5ed4-4265-ae9c-cf3c39b9ff63",
   "metadata": {
    "tags": []
   },
   "outputs": [],
   "source": [
    "import networkx as nx\n",
    "import pandas as pd\n",
    "import matplotlib.pyplot as plt\n",
    "from collections import Counter\n",
    "import numpy as np\n",
    "import seaborn as sns\n",
    "import graph_tool.all as gt\n",
    "\n",
    "%matplotlib inline"
   ]
  },
  {
   "cell_type": "markdown",
   "id": "1cf7304e-76d6-4604-8358-294ab4188d83",
   "metadata": {},
   "source": [
    "**Data loading**  \n",
    "the data starts with the preprocessed text (pickled) file  \n",
    "taking the upper right triangle plus a threshold of 50th quartile"
   ]
  },
  {
   "cell_type": "code",
   "execution_count": 2,
   "id": "9c095d74-b5a7-46c0-aad2-5983d53d0e80",
   "metadata": {
    "tags": []
   },
   "outputs": [],
   "source": [
    "top30_lst =  pd.read_pickle(\"../results/top30_mean_all.pkl\")"
   ]
  },
  {
   "cell_type": "code",
   "execution_count": 3,
   "id": "e0f407e8-f227-411f-a753-e9500657a628",
   "metadata": {
    "tags": []
   },
   "outputs": [
    {
     "data": {
      "text/plain": [
       "9242"
      ]
     },
     "execution_count": 3,
     "metadata": {},
     "output_type": "execute_result"
    }
   ],
   "source": [
    "len(top30_lst)"
   ]
  },
  {
   "cell_type": "markdown",
   "id": "133cc03a-6ed9-4c02-95f1-29b5d00423c4",
   "metadata": {},
   "source": [
    "## Graph creation and analysis"
   ]
  },
  {
   "cell_type": "code",
   "execution_count": 4,
   "id": "e20f155f-5347-45e5-8173-65777cd55bc4",
   "metadata": {
    "tags": []
   },
   "outputs": [],
   "source": [
    "all_nodes30 = [item for sublist in [[x[0]] for x in top30_lst] + \n",
    "               [[k for k in x[1].keys()] for x in top30_lst] for item in sublist]\n",
    "duplicated_words30 = [word for word, count in Counter(all_nodes30).items() if count > 1]\n",
    "node_labels = {word:i for i, word in enumerate(all_nodes30)}"
   ]
  },
  {
   "cell_type": "code",
   "execution_count": 5,
   "id": "2d7c6c7a-46fb-43ae-89b7-e7876b763824",
   "metadata": {
    "tags": []
   },
   "outputs": [
    {
     "data": {
      "text/plain": [
       "9242"
      ]
     },
     "execution_count": 5,
     "metadata": {},
     "output_type": "execute_result"
    }
   ],
   "source": [
    "len(set(all_nodes30))"
   ]
  },
  {
   "cell_type": "code",
   "execution_count": 6,
   "id": "d42205a9-dc04-4a0a-88e0-c60a7426395a",
   "metadata": {
    "tags": []
   },
   "outputs": [
    {
     "data": {
      "text/plain": [
       "7897"
      ]
     },
     "execution_count": 6,
     "metadata": {},
     "output_type": "execute_result"
    }
   ],
   "source": [
    "len(duplicated_words30)"
   ]
  },
  {
   "cell_type": "code",
   "execution_count": 7,
   "id": "7f9ade9b-e6f3-44eb-afb2-49bbdd8a58f1",
   "metadata": {
    "tags": []
   },
   "outputs": [],
   "source": [
    "np.random.seed(1234567891)\n",
    "\n",
    "# create an empty graph\n",
    "G = nx.Graph()\n",
    "\n",
    "# adding nodes\n",
    "G.add_nodes_from(all_nodes30)\n",
    "\n",
    "# adding edges\n",
    "for word_lst in top30_lst:\n",
    "    word, word_related_dict = word_lst\n",
    "    for related_word, weight in word_related_dict.items():\n",
    "        G.add_edge(word, related_word, weight=1-weight)"
   ]
  },
  {
   "cell_type": "code",
   "execution_count": 8,
   "id": "bcd5efaa-853c-4ec3-b49e-0c54cabfadac",
   "metadata": {
    "tags": []
   },
   "outputs": [
    {
     "name": "stdout",
     "output_type": "stream",
     "text": [
      "9242\n",
      "233374\n"
     ]
    }
   ],
   "source": [
    "num_nodes = len(G.nodes())\n",
    "num_edges = len(G.edges())\n",
    "print(num_nodes)\n",
    "print(num_edges)"
   ]
  },
  {
   "cell_type": "code",
   "execution_count": 9,
   "id": "c90bc5e7-ee2c-4540-b326-712652116b8b",
   "metadata": {
    "tags": []
   },
   "outputs": [],
   "source": [
    "def print_distance(source_node, target_node):\n",
    "    try:\n",
    "        shortest_path = nx.shortest_path(G, source=source_node, target=target_node, weight=\"weight\", method=\"dijkstra\")\n",
    "        weighted_distance = nx.shortest_path_length(G, source=source_node, target=target_node, weight=\"weight\", method=\"dijkstra\")\n",
    "        print(f\"shortest path from {source_node} to {target_node}: {shortest_path}\")\n",
    "        print(f\"weighted distance: {round(weighted_distance, 3)}\")\n",
    "    except nx.NetworkXNoPath:\n",
    "        print(f\"there is no path from {source_node} to {target_node}.\")"
   ]
  },
  {
   "cell_type": "code",
   "execution_count": 10,
   "id": "5e71f072-2f74-4df2-bfb3-de68d850797b",
   "metadata": {
    "tags": []
   },
   "outputs": [
    {
     "name": "stdout",
     "output_type": "stream",
     "text": [
      "shortest path from health to racism: ['health', 'eliminate', 'tackling', 'injustice', 'racism']\n",
      "weighted distance: 0.71\n",
      "shortest path from health to racist: ['health', 'criminal_justice', 'promise', 'arrangement', 'bring', 'struggle', 'matter', 'racist']\n",
      "weighted distance: 0.643\n"
     ]
    }
   ],
   "source": [
    "print_distance(\"health\", \"racism\")\n",
    "print_distance(\"health\", \"racist\")"
   ]
  },
  {
   "cell_type": "code",
   "execution_count": 11,
   "id": "0cb03f4b-e7dc-41e2-88ec-fe23285439e0",
   "metadata": {
    "tags": []
   },
   "outputs": [
    {
     "name": "stdout",
     "output_type": "stream",
     "text": [
      "shortest path from poverty to racism: ['poverty', 'physical', 'stigma', 'interpersonal', 'discrimination', 'racism']\n",
      "weighted distance: 0.407\n",
      "shortest path from environment to racism: ['environment', 'influence', 'interpersonal', 'discrimination', 'racism']\n",
      "weighted distance: 0.378\n",
      "shortest path from environmental to racism: ['environmental', 'structural', 'form', 'historical', 'racism']\n",
      "weighted distance: 0.379\n",
      "shortest path from disparity to racism: ['disparity', 'racial', 'discrimination', 'racism']\n",
      "weighted distance: 0.432\n"
     ]
    }
   ],
   "source": [
    "print_distance(\"poverty\", \"racism\")\n",
    "print_distance(\"environment\", \"racism\")\n",
    "print_distance(\"environmental\", \"racism\")\n",
    "print_distance(\"disparity\", \"racism\")"
   ]
  },
  {
   "cell_type": "code",
   "execution_count": 12,
   "id": "7b8314e4-baaf-4781-82a0-8cb18e338c88",
   "metadata": {
    "tags": []
   },
   "outputs": [
    {
     "name": "stdout",
     "output_type": "stream",
     "text": [
      "shortest path from deprivation to racism: ['deprivation', 'negative', 'interpersonal', 'discrimination', 'racism']\n",
      "weighted distance: 0.349\n",
      "shortest path from economic to racism: ['economic', 'environmental', 'structural', 'form', 'historical', 'racism']\n",
      "weighted distance: 0.433\n",
      "shortest path from psychosocial to racism: ['psychosocial', 'interpersonal', 'discrimination', 'racism']\n",
      "weighted distance: 0.294\n",
      "shortest path from stress to racism: ['stress', 'psychological', 'stigma', 'interpersonal', 'discrimination', 'racism']\n",
      "weighted distance: 0.349\n"
     ]
    }
   ],
   "source": [
    "print_distance(\"deprivation\", \"racism\")\n",
    "print_distance(\"economic\", \"racism\")\n",
    "print_distance(\"psychosocial\", \"racism\")\n",
    "print_distance(\"stress\", \"racism\")"
   ]
  },
  {
   "cell_type": "code",
   "execution_count": 13,
   "id": "582e38a4-38d1-44ce-8d65-db319a144d01",
   "metadata": {
    "tags": []
   },
   "outputs": [
    {
     "name": "stdout",
     "output_type": "stream",
     "text": [
      "shortest path from structural to interpersonal: ['structural', 'interpersonal']\n",
      "weighted distance: 0.132\n",
      "shortest path from structural to form: ['structural', 'form']\n",
      "weighted distance: 0.075\n",
      "shortest path from form to discrimination: ['form', 'interpersonal', 'discrimination']\n",
      "weighted distance: 0.238\n"
     ]
    }
   ],
   "source": [
    "print_distance(\"structural\", \"interpersonal\")\n",
    "print_distance(\"structural\", \"form\")\n",
    "print_distance(\"form\", \"discrimination\")"
   ]
  },
  {
   "cell_type": "code",
   "execution_count": 14,
   "id": "6af9745a-bcb3-4190-87e4-6fc1c3c789d2",
   "metadata": {
    "tags": []
   },
   "outputs": [
    {
     "name": "stdout",
     "output_type": "stream",
     "text": [
      "shortest path from inequality to discrimination: ['inequality', 'gender', 'discrimination']\n",
      "weighted distance: 0.29\n",
      "shortest path from harassment to discrimination: ['harassment', 'prejudice', 'discrimination']\n",
      "weighted distance: 0.176\n",
      "shortest path from harassment to racism: ['harassment', 'prejudice', 'racism']\n",
      "weighted distance: 0.216\n"
     ]
    }
   ],
   "source": [
    "print_distance(\"inequality\", \"discrimination\")\n",
    "print_distance(\"harassment\", \"discrimination\")\n",
    "print_distance(\"harassment\", \"racism\")"
   ]
  },
  {
   "cell_type": "markdown",
   "id": "565feeec-59d2-44cb-a2ce-4874f53e5985",
   "metadata": {},
   "source": [
    "### Graph visualization with graph tool"
   ]
  },
  {
   "cell_type": "code",
   "execution_count": 74,
   "id": "195b51c9-adc0-4b87-b9bf-57a35b416732",
   "metadata": {
    "tags": []
   },
   "outputs": [],
   "source": [
    "KEYTERMS = ['health', 'doctor', 'resource', 'class', \n",
    "            'race', 'black', 'white', 'bame', 'minority', \n",
    "            'racism', 'disadvantaged',\n",
    "            'discrimination', 'wealth', 'poverty', 'power', 'bias', 'structural', \n",
    "            'possibly',\n",
    "            'perhaps', 'probably', 'likely']"
   ]
  },
  {
   "cell_type": "code",
   "execution_count": 59,
   "id": "b14a981a-633e-4e48-80b3-94af94684c41",
   "metadata": {
    "tags": []
   },
   "outputs": [],
   "source": [
    "sub_nodes30 = [x for x in KEYTERMS] + [item for sublist in [y.keys() for x,y in top30_lst if x in KEYTERMS] for item in sublist]\n",
    "duplicated_words30 = [word for word, count in Counter(sub_nodes30).items() if count > 1]"
   ]
  },
  {
   "cell_type": "code",
   "execution_count": 76,
   "id": "4578892a-2f79-4f6d-9e52-a51e367e9540",
   "metadata": {
    "tags": []
   },
   "outputs": [],
   "source": [
    "sub_30lst = [(x, y) for x,y in top30_lst if x in set(KEYTERMS+duplicated_words30)]\n",
    "node_labels = {word:i for i, word in enumerate(set(KEYTERMS+duplicated_words30))}"
   ]
  },
  {
   "cell_type": "code",
   "execution_count": 79,
   "id": "d32a5cf5-0dac-4300-a532-17212d0f9c3e",
   "metadata": {
    "tags": []
   },
   "outputs": [],
   "source": [
    "np.random.seed(1234567891)\n",
    "\n",
    "num_vertices = len(KEYTERMS+duplicated_words30)\n",
    "\n",
    "g = gt.Graph(directed=False)\n",
    "vertices = [g.add_vertex() for _ in set(KEYTERMS+duplicated_words30)]\n",
    "\n",
    "# adding edges\n",
    "for word_lst in sub_30lst:\n",
    "    word, word_related_dict = word_lst\n",
    "    for related_word, weight in word_related_dict.items():\n",
    "        if related_word in node_labels:\n",
    "            g.add_edge(vertices[node_labels[word]], vertices[node_labels[related_word]])"
   ]
  },
  {
   "cell_type": "code",
   "execution_count": 80,
   "id": "70c603d2-8248-4e6f-b25a-7f386497e212",
   "metadata": {
    "tags": []
   },
   "outputs": [],
   "source": [
    "state = gt.minimize_nested_blockmodel_dl(g)"
   ]
  },
  {
   "cell_type": "code",
   "execution_count": 81,
   "id": "76f1381f-b743-41a3-990e-86d5d065317e",
   "metadata": {
    "tags": []
   },
   "outputs": [
    {
     "data": {
      "text/plain": [
       "(<VertexPropertyMap object with value type 'vector<double>', for Graph 0x7f0a5f964a50, at 0x7f0a5f80b190>,\n",
       " <GraphView object, directed, with 162 vertices and 161 edges, edges filtered by (<EdgePropertyMap object with value type 'bool', for Graph 0x7f0a5f8cb810, at 0x7f0a5f8cb450>, False), vertices filtered by (<VertexPropertyMap object with value type 'bool', for Graph 0x7f0a5f8cb810, at 0x7f0a5f8c8650>, False), at 0x7f0a5f8cb810>,\n",
       " <VertexPropertyMap object with value type 'vector<double>', for Graph 0x7f0a5f8cb810, at 0x7f0a5f8cab10>)"
      ]
     },
     "execution_count": 81,
     "metadata": {},
     "output_type": "execute_result"
    }
   ],
   "source": [
    "state.draw(output=\"../results/network_graph30.pdf\")"
   ]
  }
 ],
 "metadata": {
  "kernelspec": {
   "display_name": "textanalysis",
   "language": "python",
   "name": "textanalysis"
  },
  "language_info": {
   "codemirror_mode": {
    "name": "ipython",
    "version": 3
   },
   "file_extension": ".py",
   "mimetype": "text/x-python",
   "name": "python",
   "nbconvert_exporter": "python",
   "pygments_lexer": "ipython3",
   "version": "3.11.0"
  }
 },
 "nbformat": 4,
 "nbformat_minor": 5
}
