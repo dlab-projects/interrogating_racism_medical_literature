{
 "cells": [
  {
   "cell_type": "code",
   "execution_count": 14,
   "id": "68697fc7-ae6b-42bb-9f9a-a083e966179c",
   "metadata": {},
   "outputs": [],
   "source": [
    "import ftfy\n",
    "import pandas as pd\n",
    "import spacy\n",
    "\n",
    "from nltk.tokenize import sent_tokenize\n",
    "from sentence_transformers import SentenceTransformer\n",
    "from sklearn.metrics.pairwise import cosine_similarity"
   ]
  },
  {
   "cell_type": "code",
   "execution_count": 2,
   "id": "4c7773d8-6865-43b6-a699-036ee0d6c799",
   "metadata": {},
   "outputs": [],
   "source": [
    "model = SentenceTransformer('pritamdeka/S-PubMedBert-MS-MARCO')"
   ]
  },
  {
   "cell_type": "code",
   "execution_count": 3,
   "id": "92f227c8-724e-4848-9699-5c080eee0bb0",
   "metadata": {},
   "outputs": [],
   "source": [
    "path = '../data/full_data.xlsx'\n",
    "df = pd.read_excel(path)"
   ]
  },
  {
   "cell_type": "code",
   "execution_count": 5,
   "id": "9af53ae8-aef7-4bd8-be2d-55bbd150d465",
   "metadata": {},
   "outputs": [],
   "source": [
    "# Grab text columns\n",
    "text_cols = df.filter(regex='^full_text')\n",
    "# Merge text columns into a single column\n",
    "df['full_text'] = text_cols.apply(\n",
    "    lambda x: ' '.join(x.dropna()),\n",
    "    axis=1)"
   ]
  },
  {
   "cell_type": "code",
   "execution_count": 6,
   "id": "3a1c67cd-0cc6-47df-a6c5-047274542404",
   "metadata": {},
   "outputs": [],
   "source": [
    "def preprocess(text):\n",
    "    \"\"\"Normalize some distracting parts of text data.\n",
    "    URLS, phone numbers and email addresses are remove to protect people's\n",
    "    identities if that content ends up in our data. Accents are removed and\n",
    "    everything is case-folded to reduce the character and type vocab that we\n",
    "    deal with downstream.\n",
    "    Parameters\n",
    "    ----------\n",
    "    text : str\n",
    "    Returns\n",
    "    -------\n",
    "    str\n",
    "    \"\"\"\n",
    "    text = ftfy.fix_text(text)\n",
    "    text = text.lower()\n",
    "    text = pp.normalize.whitespace(text)\n",
    "    text = text.replace('\\n', ' ')\n",
    "    text = pp.replace.urls(text, repl='URL')\n",
    "    text = pp.replace.phone_numbers(text, repl='PHONE')\n",
    "    text = pp.replace.emails(text, repl='EMAIL')\n",
    "    text = pp.replace.user_handles(text, repl='USER')\n",
    "    text = pp.remove.accents(text)\n",
    "    return text"
   ]
  },
  {
   "cell_type": "code",
   "execution_count": 7,
   "id": "3b82d527-95c2-4058-8ae1-bd74df2024f7",
   "metadata": {},
   "outputs": [],
   "source": [
    "processed = df['full_text'].apply(preprocess)"
   ]
  },
  {
   "cell_type": "code",
   "execution_count": 8,
   "id": "aec60470-2194-4d92-8745-6611fc08ea84",
   "metadata": {},
   "outputs": [],
   "source": [
    "sentences = [sent_tokenize(processed[idx])\n",
    "             for idx in range(len(processed))]\n",
    "sentences = [sentence for article in sentences\n",
    "             for sentence in article]"
   ]
  },
  {
   "cell_type": "code",
   "execution_count": 9,
   "id": "3797bcfe-d810-4d07-ac9f-1a264d2ed505",
   "metadata": {},
   "outputs": [],
   "source": [
    "model = SentenceTransformer('pritamdeka/S-PubMedBert-MS-MARCO')"
   ]
  },
  {
   "cell_type": "code",
   "execution_count": 16,
   "id": "ea119a7d-8b2c-4b8e-9a4b-bee971511dd9",
   "metadata": {},
   "outputs": [],
   "source": [
    "embeddings = model.encode(sentences[:5])"
   ]
  },
  {
   "cell_type": "code",
   "execution_count": 17,
   "id": "198c8bb1-5b51-4625-9d3c-4d96357c5aa5",
   "metadata": {},
   "outputs": [
    {
     "name": "stdout",
     "output_type": "stream",
     "text": [
      "(5, 768)\n"
     ]
    }
   ],
   "source": [
    "print(embeddings.shape)"
   ]
  },
  {
   "cell_type": "code",
   "execution_count": 18,
   "id": "40f51aff-393e-4e8b-8a81-4ee421ed2c4c",
   "metadata": {},
   "outputs": [
    {
     "data": {
      "text/plain": [
       "array([[0.9999997 , 0.8998304 , 0.9377596 , 0.9258569 , 0.89746404],\n",
       "       [0.8998304 , 1.0000002 , 0.88501185, 0.92290795, 0.8345748 ],\n",
       "       [0.9377596 , 0.88501185, 1.0000002 , 0.87836033, 0.8637343 ],\n",
       "       [0.9258569 , 0.92290795, 0.87836033, 1.0000002 , 0.894078  ],\n",
       "       [0.89746404, 0.8345748 , 0.8637343 , 0.894078  , 0.99999946]],\n",
       "      dtype=float32)"
      ]
     },
     "execution_count": 18,
     "metadata": {},
     "output_type": "execute_result"
    }
   ],
   "source": [
    "cosine_similarity(embeddings)"
   ]
  },
  {
   "cell_type": "code",
   "execution_count": 19,
   "id": "850059a4-2164-4f8b-ad7f-3ccd3fa1cfd9",
   "metadata": {},
   "outputs": [
    {
     "name": "stdout",
     "output_type": "stream",
     "text": [
      "covid-19: failure to control pandemic and inequalities made england worst affected in europe, says report shaun griffin a failure to control the coronavirus pandemic, coupled with widening inequality over the past decade, has led to england having the highest rate of excess deaths from covid-19 in europe, a new report concluded.1 rather than focusing on narrow economic goals, health and wellbeing should be at the heart of government strategy, it says.\n",
      "the findings and recommendations from the report by michael marmot, director of university college london's institute of health equity, add to those made in a 10 year update, published in february,2 of the landmark 2010 marmot review of strategies for reducing health inequality.\n"
     ]
    }
   ],
   "source": [
    "print(sentences[0])\n",
    "print(sentences[1])"
   ]
  },
  {
   "cell_type": "code",
   "execution_count": null,
   "id": "a1a2c469-cf32-48fb-960e-e2e5c1f3f0d2",
   "metadata": {},
   "outputs": [],
   "source": []
  }
 ],
 "metadata": {
  "kernelspec": {
   "display_name": "nlp",
   "language": "python",
   "name": "nlp"
  },
  "language_info": {
   "codemirror_mode": {
    "name": "ipython",
    "version": 3
   },
   "file_extension": ".py",
   "mimetype": "text/x-python",
   "name": "python",
   "nbconvert_exporter": "python",
   "pygments_lexer": "ipython3",
   "version": "3.9.16"
  }
 },
 "nbformat": 4,
 "nbformat_minor": 5
}
