{
 "cells": [
  {
   "cell_type": "code",
   "execution_count": 7,
   "id": "68697fc7-ae6b-42bb-9f9a-a083e966179c",
   "metadata": {},
   "outputs": [],
   "source": [
    "import ftfy\n",
    "import pandas as pd\n",
    "import spacy\n",
    "import textacy.preprocessing as pp\n",
    "import torch\n",
    "\n",
    "from nltk.tokenize import sent_tokenize\n",
    "from sentence_transformers import SentenceTransformer\n",
    "from sklearn.metrics.pairwise import cosine_similarity"
   ]
  },
  {
   "cell_type": "code",
   "execution_count": 2,
   "id": "b63210f5",
   "metadata": {},
   "outputs": [
    {
     "data": {
      "text/plain": [
       "3"
      ]
     },
     "execution_count": 2,
     "metadata": {},
     "output_type": "execute_result"
    }
   ],
   "source": [
    "torch.cuda.device_count()"
   ]
  },
  {
   "cell_type": "code",
   "execution_count": 3,
   "id": "4c7773d8-6865-43b6-a699-036ee0d6c799",
   "metadata": {},
   "outputs": [],
   "source": [
    "model = SentenceTransformer('pritamdeka/S-PubMedBert-MS-MARCO').to('cuda:0')"
   ]
  },
  {
   "cell_type": "code",
   "execution_count": 4,
   "id": "92f227c8-724e-4848-9699-5c080eee0bb0",
   "metadata": {},
   "outputs": [],
   "source": [
    "path = '../data/full_data.xlsx'\n",
    "df = pd.read_excel(path)"
   ]
  },
  {
   "cell_type": "code",
   "execution_count": 5,
   "id": "9af53ae8-aef7-4bd8-be2d-55bbd150d465",
   "metadata": {},
   "outputs": [],
   "source": [
    "# Grab text columns\n",
    "text_cols = df.filter(regex='^full_text')\n",
    "# Merge text columns into a single column\n",
    "df['full_text'] = text_cols.apply(\n",
    "    lambda x: ' '.join(x.dropna()),\n",
    "    axis=1)"
   ]
  },
  {
   "cell_type": "code",
   "execution_count": 8,
   "id": "3a1c67cd-0cc6-47df-a6c5-047274542404",
   "metadata": {},
   "outputs": [],
   "source": [
    "def preprocess(text):\n",
    "    \"\"\"Normalize some distracting parts of text data.\n",
    "    URLS, phone numbers and email addresses are remove to protect people's\n",
    "    identities if that content ends up in our data. Accents are removed and\n",
    "    everything is case-folded to reduce the character and type vocab that we\n",
    "    deal with downstream.\n",
    "    Parameters\n",
    "    ----------\n",
    "    text : str\n",
    "    Returns\n",
    "    -------\n",
    "    str\n",
    "    \"\"\"\n",
    "    text = ftfy.fix_text(text)\n",
    "    text = text.lower()\n",
    "    text = pp.normalize.whitespace(text)\n",
    "    text = text.replace('\\n', ' ')\n",
    "    text = pp.replace.urls(text, repl='URL')\n",
    "    text = pp.replace.phone_numbers(text, repl='PHONE')\n",
    "    text = pp.replace.emails(text, repl='EMAIL')\n",
    "    text = pp.replace.user_handles(text, repl='USER')\n",
    "    text = pp.remove.accents(text)\n",
    "    return text"
   ]
  },
  {
   "cell_type": "code",
   "execution_count": 9,
   "id": "3b82d527-95c2-4058-8ae1-bd74df2024f7",
   "metadata": {},
   "outputs": [],
   "source": [
    "processed = df['full_text'].apply(preprocess)"
   ]
  },
  {
   "cell_type": "code",
   "execution_count": 10,
   "id": "aec60470-2194-4d92-8745-6611fc08ea84",
   "metadata": {},
   "outputs": [],
   "source": [
    "sentences = [sent_tokenize(processed[idx])\n",
    "             for idx in range(len(processed))]\n",
    "sentences = [sentence for article in sentences\n",
    "             for sentence in article]"
   ]
  },
  {
   "cell_type": "code",
   "execution_count": 12,
   "id": "ea119a7d-8b2c-4b8e-9a4b-bee971511dd9",
   "metadata": {},
   "outputs": [],
   "source": [
    "embeddings = model.encode(sentences[:100])"
   ]
  },
  {
   "cell_type": "code",
   "execution_count": 13,
   "id": "198c8bb1-5b51-4625-9d3c-4d96357c5aa5",
   "metadata": {},
   "outputs": [
    {
     "name": "stdout",
     "output_type": "stream",
     "text": [
      "(100, 768)\n"
     ]
    }
   ],
   "source": [
    "print(embeddings.shape)"
   ]
  },
  {
   "cell_type": "code",
   "execution_count": 14,
   "id": "40f51aff-393e-4e8b-8a81-4ee421ed2c4c",
   "metadata": {},
   "outputs": [
    {
     "data": {
      "text/plain": [
       "array([[0.99999946, 0.89983046, 0.93775976, ..., 0.866554  , 0.8755862 ,\n",
       "        0.83921456],\n",
       "       [0.89983046, 0.9999998 , 0.8850118 , ..., 0.87664735, 0.8483837 ,\n",
       "        0.8276462 ],\n",
       "       [0.93775976, 0.8850118 , 0.9999999 , ..., 0.8587393 , 0.8812106 ,\n",
       "        0.82664096],\n",
       "       ...,\n",
       "       [0.866554  , 0.87664735, 0.8587393 , ..., 0.9999999 , 0.87030977,\n",
       "        0.82861465],\n",
       "       [0.8755862 , 0.8483837 , 0.8812106 , ..., 0.87030977, 0.99999976,\n",
       "        0.7955004 ],\n",
       "       [0.83921456, 0.8276462 , 0.82664096, ..., 0.82861465, 0.7955004 ,\n",
       "        0.9999999 ]], dtype=float32)"
      ]
     },
     "execution_count": 14,
     "metadata": {},
     "output_type": "execute_result"
    }
   ],
   "source": [
    "cosine_similarity(embeddings)"
   ]
  },
  {
   "cell_type": "code",
   "execution_count": 16,
   "id": "850059a4-2164-4f8b-ad7f-3ccd3fa1cfd9",
   "metadata": {},
   "outputs": [
    {
     "name": "stdout",
     "output_type": "stream",
     "text": [
      "covid-19: failure to control pandemic and inequalities made england worst affected in europe, says report shaun griffin a failure to control the coronavirus pandemic, coupled with widening inequality over the past decade, has led to england having the highest rate of excess deaths from covid-19 in europe, a new report concluded.1 rather than focusing on narrow economic goals, health and wellbeing should be at the heart of government strategy, it says.\n",
      "my favourite resonates with the need to care for oneself, and is \"at a cardiac arrest, the first procedure is to take your own pulse.\"\n"
     ]
    }
   ],
   "source": [
    "print(sentences[0])\n",
    "print(sentences[300])"
   ]
  }
 ],
 "metadata": {
  "kernelspec": {
   "display_name": "nlp",
   "language": "python",
   "name": "python3"
  },
  "language_info": {
   "codemirror_mode": {
    "name": "ipython",
    "version": 3
   },
   "file_extension": ".py",
   "mimetype": "text/x-python",
   "name": "python",
   "nbconvert_exporter": "python",
   "pygments_lexer": "ipython3",
   "version": "3.7.10"
  }
 },
 "nbformat": 4,
 "nbformat_minor": 5
}
