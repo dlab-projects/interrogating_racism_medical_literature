{
 "cells": [
  {
   "cell_type": "code",
   "execution_count": 1,
   "id": "fc266452-c44b-41c1-8c82-a9a4ea0fa017",
   "metadata": {},
   "outputs": [
    {
     "name": "stderr",
     "output_type": "stream",
     "text": [
      "[nltk_data] Downloading package punkt to /Users/psachdeva/nltk_data...\n",
      "[nltk_data]   Package punkt is already up-to-date!\n"
     ]
    }
   ],
   "source": [
    "import nltk\n",
    "import numpy as np\n",
    "import matplotlib.pyplot as plt\n",
    "import pandas as pd\n",
    "import requests\n",
    "import openai\n",
    "\n",
    "from gensim.models import Word2Vec\n",
    "from gensim.models import KeyedVectors\n",
    "from gensim.test.utils import datapath\n",
    "from gensim import utils\n",
    "from sklearn.decomposition import PCA\n",
    "from textwrap import dedent\n",
    "\n",
    "nltk.download('punkt')\n",
    "\n",
    "%matplotlib inline"
   ]
  },
  {
   "cell_type": "code",
   "execution_count": 2,
   "id": "9ebf059c-3df8-4718-a4c8-05ba22c45b93",
   "metadata": {},
   "outputs": [],
   "source": [
    "with open('/Users/psachdeva/openai/api.txt', 'r') as f:\n",
    "    openai.api_key = f.read().strip()"
   ]
  },
  {
   "cell_type": "code",
   "execution_count": 4,
   "id": "056fde76-b985-4438-b193-c1ee298c5f60",
   "metadata": {},
   "outputs": [],
   "source": [
    "path = '../data/full_data.xlsx'\n",
    "data = pd.read_excel(path)"
   ]
  },
  {
   "cell_type": "code",
   "execution_count": 7,
   "id": "58142f0e-c1d3-486b-8540-33a22f5cc8c4",
   "metadata": {},
   "outputs": [],
   "source": [
    "system_message = dedent(\n",
    "    \"\"\"You are a tool for cleaning up text extracted from PDF documents of academic papers.\n",
    "    \n",
    "    You will be provided text that was extracted from a PDF of an academic paper. Please correct the following in the text:\n",
    "    \n",
    "    - Correct any words that have spaces mistakenly removed. For example, \"thesciencesays\" should be corrected to \"the science says\".\n",
    "    - Correct words that are broken by a hyphen, possibly from a new line. For example, \"unsurprisi- ngly\" should be corrected to \"unsurprisingly\".\n",
    "    - Remove numbers that are likely corresponding to references. For example, \"home3\" should be corrected to \"home\".\n",
    "    - Separate words that are connected by a hyphen and no space, when it makes sense. For example, \"disadvantages-such\" should be corrected to \"disadvantages - such\". Meanwhile, \"re-establish\" and \"covid-19\" should remain the same.\n",
    "    - Remove any URLs.\n",
    "    - Lastly, remove any references at the end of the document.\n",
    "    \"\"\")"
   ]
  },
  {
   "cell_type": "code",
   "execution_count": 8,
   "id": "f3c77a91-229c-40bc-b5f4-22c80b62b03e",
   "metadata": {},
   "outputs": [],
   "source": [
    "response = openai.ChatCompletion.create(\n",
    "    model='gpt-3.5-turbo',\n",
    "    messages=[\n",
    "        {\"role\": \"system\", \"content\": system_message},\n",
    "        {\"role\": \"user\", \"content\": data['full_text_1'].iloc[82]}\n",
    "    ])"
   ]
  },
  {
   "cell_type": "code",
   "execution_count": 9,
   "id": "1ee50e4e-f4d2-43d9-b5ad-e82c40e5ace0",
   "metadata": {},
   "outputs": [
    {
     "name": "stdout",
     "output_type": "stream",
     "text": [
      "Racism in medicine: why equality matters to everyone\n",
      "A race equality observatory is needed to provide leadership and data\n",
      "Victor Adebowale incoming chair 1, Mala Rao professor 2\n",
      "1NHS Confederation, London, UK; 2Department of Primary care and Public Health, Imperial College London, London, UK\n",
      "This issue of The BMJ, with its focus on race and health, comes\n",
      "as the UK is trying to make sense of the societal upheavals that\n",
      "have convulsed the country in recent times. They have put race,\n",
      "racism, and power under close scrutiny.\n",
      "Brexit marked a watershed moment in the nation’s history.\n",
      "Anti-immigrant sentiment was found to be a key predictor of\n",
      "the leave vote,1\n",
      "\n",
      "with ethnic minorities facing rising and\n",
      "increasingly overt racism since the 2016 referendum.2\n",
      "And last\n",
      "month the Metropolitan police announced the roll-out of facial\n",
      "recognition technology in London despite the US National\n",
      "Institute of Standards and Technology alerting policy makers\n",
      "to the technology’s gender and race bias and the risks that ethnic\n",
      "minority people will be falsely accused of crime.3\n",
      "The NHS isn’t immune to these challenges, as the reflections\n",
      "and insights portrayed in this collection of articles confirm (bmj.\n",
      "com/racism-in-medicine). Research has shown differential\n",
      "attainment by ethnicity in the medical workforce across all\n",
      "measures of training and career progression.4\n",
      "\n",
      "Ethnic minority\n",
      "doctors are more likely to face referral to the General Medical\n",
      "Council, more likely to have their cases investigated, and may\n",
      "face harsher sanctions after an investigation.5\n",
      "\n",
      "Other studies have\n",
      "highlighted differences by ethnicity in doctors’ pay,6\n",
      "and in the\n",
      "likelihood of experiencing bullying and harassment in the\n",
      "workplace.7\n",
      "In healthcare too, ethnic inequalities in service provision, access,\n",
      "and outcomes are evident in areas as diverse as genetic\n",
      "counselling,8\n",
      "artificial intelligence,9\n",
      "\n",
      "and maternal health.10 These\n",
      "disparities are set against a higher prevalence of numerous health\n",
      "conditions, including diabetes, cardiovascular disease, and\n",
      "mental ill health in ethnic minority populations in the UK.11\n",
      "Meanwhile, climate change is becoming an increasing priority,\n",
      "especially to internationally recruited staff whose countries of\n",
      "origin face disproportionately greater impacts than the developed\n",
      "world.12\n",
      "Equality benefits everyone\n",
      "The effects of racism are not confined to ethnic minority patients\n",
      "or the workforce. Race equality matters because it benefits\n",
      "everyone. We all want our families and friends to be well looked\n",
      "\n",
      "after by the NHS, and the staff are crucially important to making\n",
      "this possible.\n",
      "The business case for an NHS that invests in its workforce and\n",
      "ensures that its ethnic minority staff are fully integrated and\n",
      "happy is clear. Research confirms that the extent to which an\n",
      "organisation values its minority staff is a good barometer of\n",
      "how well patients are likely to feel cared for.13 Staff are the\n",
      "biggest cost to the NHS.14 Loss of productivity, high turnover,\n",
      "or staff preference for locum or temporary work are examples\n",
      "of how much the poor experience of ethnic minority staff costs\n",
      "the NHS, not just in the quality of care but in cash.\n",
      "As the 2019 NHS long term plan commits to tackling growing\n",
      "health inequalities,15 we must acknowledge our flawed approach\n",
      "to race and diversity across the NHS and social care system.\n",
      "Racism is a matter of organisational culture, and culture is a\n",
      "matter of leadership. Simon Stevens, chief executive of NHS\n",
      "England, has expressed enthusiastic support for the NHS\n",
      "workforce race equality strategy, and the secretary of state for\n",
      "health, Matt Hancock, has said that abuse of ethnic minority\n",
      "staff by racist patients will not be tolerated.16 Such support is\n",
      "welcome and necessary, but is it enough? The evidence\n",
      "presented in this issue suggests that it isn’t. If we are to have a\n",
      "health and care system fit for all of us, and fit for the future,\n",
      "then race cannot be swept under the carpet.\n",
      "Informed leadership\n",
      "Achieving race equality requires leaders with the courage and\n",
      "ability to shift the culture. Their greatest need is for knowledge\n",
      "and evidence to identify the gaps, determine what works, and\n",
      "help orient their organisational structures and cultures towards\n",
      "race equality in relation to the ethnic minority population and\n",
      "workforce. This calls for an observatory—a resource that serves\n",
      "to combine the qualities of academic and state based intelligence\n",
      "gathering, is intuitive in recognising priorities, influential in\n",
      "highlighting issues, and has the clout to guide policy.17\n",
      "Launched in 2015, the Workforce Race Equality Standard\n",
      "(WRES) 18 has provided compelling evidence of ethnic variations\n",
      "in staff experience across NHS trusts in England and has been\n",
      "a powerful driver of organisational change during the past five\n",
      "years. A supplement to the WRES for the medical workforce,\n",
      "\n",
      "Correspondence to: M Rao mala.rao@imperial.ac.uk\n",
      "For personal use only: See rights and reprints http://www.bmj.com/permissions Subscribe: http://www.bmj.com/subscribe\n",
      "BMJ 2020;368:m530 doi: 10.1136/bmj.m530 (Published 12 February 2020) Page 1 of 2\n",
      "Editorials\n",
      "\n",
      "EDITORIALS\n",
      "on 20 August 2020 at DePaul University Library. Protected by copyright. http://www.bmj.com/ BMJ: first published as 10.1136/bmj.m530 on 12 February 2020. Downloaded from\n",
      "\n",
      "the MWRES, has been approved for further development, and\n",
      "will be tailored to draw out ethnic variations in the experience\n",
      "and opportunities among doctors, 40% of whom are from ethnic\n",
      "minorities.19 Although this offers important progress in evidence\n",
      "gathering, it is recognised as a first step, and much more data\n",
      "gathering, synthesis, and interpretation are necessary to inform\n",
      "action towards the overarching NHS race equality goals. If we\n",
      "are serious about an NHS free of racism we need an independent\n",
      "observatory on race equality, health, and healthcare to develop\n",
      "the appropriate tools and information to ensure we get there.\n"
     ]
    }
   ],
   "source": [
    "print(data['full_text_1'].iloc[82])"
   ]
  },
  {
   "cell_type": "code",
   "execution_count": 10,
   "id": "e0dea29b-103d-4c92-8bd9-42bb1d60a041",
   "metadata": {},
   "outputs": [
    {
     "name": "stdout",
     "output_type": "stream",
     "text": [
      "Racism in medicine: why equality matters to everyone\n",
      "\n",
      "A race equality observatory is needed to provide leadership and data. Victor Adebowale incoming chair, Mala Rao professor.\n",
      "\n",
      "1 NHS Confederation, London, UK; 2 Department of Primary care and Public Health, Imperial College London, London, UK\n",
      "\n",
      "This issue of The BMJ, with its focus on race and health, comes as the UK is trying to make sense of the societal upheavals that have convulsed the country in recent times. They have put race, racism, and power under close scrutiny.\n",
      "\n",
      "Brexit marked a watershed moment in the nation’s history. Anti-immigrant sentiment was found to be a key predictor of the leave vote, 1 with ethnic minorities facing rising and increasingly overt racism since the 2016 referendum. 2 And last month the Metropolitan police announced the roll-out of facial recognition technology in London despite the US National Institute of Standards and Technology alerting policy makers to the technology’s gender and race bias and the risks that ethnic minority people will be falsely accused of crime. 3\n",
      "\n",
      "The NHS isn’t immune to these challenges, as the reflections and insights portrayed in this collection of articles confirm (bmj.com/racism-in-medicine). Research has shown differential attainment by ethnicity in the medical workforce across all measures of training and career progression. 4\n",
      "\n",
      "Ethnic minority doctors are more likely to face referral to the General Medical Council, more likely to have their cases investigated, and may face harsher sanctions after an investigation. 5\n",
      "\n",
      "Other studies have highlighted differences by ethnicity in doctors’ pay, 6 and in the likelihood of experiencing bullying and harassment in the workplace. 7 In healthcare too, ethnic inequalities in service provision, access, and outcomes are evident in areas as diverse as genetic counselling, 8 artificial intelligence, 9 and maternal health. 10 These disparities are set against a higher prevalence of numerous health conditions, including diabetes, cardiovascular disease, and mental ill health in ethnic minority populations in the UK. 11 Meanwhile, climate change is becoming an increasing priority, especially to internationally recruited staff whose countries of origin face disproportionately greater impacts than the developed world. 12\n",
      "\n",
      "Equality benefits everyone\n",
      "\n",
      "The effects of racism are not confined to ethnic minority patients or the workforce. Race equality matters because it benefits everyone. We all want our families and friends to be well looked after by the NHS, and the staff are crucially important to making this possible.\n",
      "\n",
      "The business case for an NHS that invests in its workforce and ensures that its ethnic minority staff are fully integrated and happy is clear. Research confirms that the extent to which an organisation values its minority staff is a good barometer of how well patients are likely to feel cared for. 13 Staff are the biggest cost to the NHS. 14 Loss of productivity, high turnover, or staff preference for locum or temporary work are examples of how much the poor experience of ethnic minority staff costs the NHS, not just in the quality of care but in cash.\n",
      "\n",
      "As the 2019 NHS long term plan commits to tackling growing health inequalities, 15 we must acknowledge our flawed approach to race and diversity across the NHS and social care system. Racism is a matter of organisational culture, and culture is a matter of leadership. Simon Stevens, chief executive of NHS England, has expressed enthusiastic support for the NHS workforce race equality strategy, and the secretary of state for health, Matt Hancock, has said that abuse of ethnic minority staff by racist patients will not be tolerated. 16 Such support is welcome and necessary, but is it enough? The evidence presented in this issue suggests that it isn’t. If we are to have a health and care system fit for all of us, and fit for the future, then race cannot be swept under the carpet.\n",
      "\n",
      "Informed leadership\n",
      "\n",
      "Achieving race equality requires leaders with the courage and ability to shift the culture. Their greatest need is for knowledge and evidence to identify the gaps, determine what works, and help orient their organisational structures and cultures towards race equality in relation to the ethnic minority population and workforce. This calls for an observatory—a resource that serves to combine the qualities of academic and state based intelligence gathering, is intuitive in recognising priorities, influential in highlighting issues, and has the clout to guide policy. 17\n",
      "\n",
      "Launched in 2015, the Workforce Race Equality Standard (WRES) 18 has provided compelling evidence of ethnic variations in staff experience across NHS trusts in England and has been a powerful driver of organisational change during the past five years. A supplement to the WRES for the medical workforce, the MWRES, has been approved for further development, and will be tailored to draw out ethnic variations in the experience and opportunities among doctors, 40% of whom are from ethnic minorities. 19 Although this offers important progress in evidence gathering, it is recognised as a first step, and much more data gathering, synthesis, and interpretation are necessary to inform action towards the overarching NHS race equality goals. If we are serious about an NHS free of racism we need an independent observatory on race equality, health, and healthcare to develop the appropriate tools and information to ensure we get there.\n"
     ]
    }
   ],
   "source": [
    "print(response['choices'][0]['message']['content'])"
   ]
  },
  {
   "cell_type": "code",
   "execution_count": null,
   "id": "599212d0-e10e-49ca-aa6e-54f746147537",
   "metadata": {},
   "outputs": [],
   "source": []
  }
 ],
 "metadata": {
  "kernelspec": {
   "display_name": "nlp",
   "language": "python",
   "name": "nlp"
  },
  "language_info": {
   "codemirror_mode": {
    "name": "ipython",
    "version": 3
   },
   "file_extension": ".py",
   "mimetype": "text/x-python",
   "name": "python",
   "nbconvert_exporter": "python",
   "pygments_lexer": "ipython3",
   "version": "3.9.7"
  }
 },
 "nbformat": 4,
 "nbformat_minor": 5
}
